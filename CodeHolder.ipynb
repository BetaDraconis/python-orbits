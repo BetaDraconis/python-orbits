{
 "cells": [
  {
   "cell_type": "code",
   "execution_count": 10,
   "metadata": {},
   "outputs": [],
   "source": [
    "import math\n",
    "import numpy as np\n",
    "import matplotlib.pyplot as plt"
   ]
  },
  {
   "cell_type": "code",
   "execution_count": 11,
   "metadata": {},
   "outputs": [],
   "source": [
    "def sanitise_angle(angle: float):\n",
    "    max_value = 2 * math.pi \n",
    "\n",
    "    if angle < 0:\n",
    "        return max_value + angle\n",
    "    elif angle >= max_value:\n",
    "        return angle - max_value\n",
    "    else:\n",
    "        return angle"
   ]
  },
  {
   "cell_type": "code",
   "execution_count": 16,
   "metadata": {},
   "outputs": [],
   "source": [
    "class AngularVector:\n",
    "    def __init__(self, mag: float, angle: float):\n",
    "        self.mag = mag\n",
    "        self.angle = sanitise_angle(angle) \n",
    "        \n",
    "    def sineMag(self, offset: float = 0, reverse: bool = False):\n",
    "        if not reverse:\n",
    "            return math.sin(self.angle - offset) * self.mag\n",
    "        else:\n",
    "            return math.sin(offset - self.angle) * self.mag\n",
    "        \n",
    "    def cosineMag(self, offset: float = 0.0, reverse: bool = False):\n",
    "        if not reverse:\n",
    "            return math.cos(self.angle - offset) * self.mag\n",
    "        else:\n",
    "            return math.cos(offset - self.angle) * self.mag\n",
    "        \n",
    "    def getCartesianComponents(self):\n",
    "        if self.angle <= math.pi /2:\n",
    "            return np.array([self.cosineMag(), self.sineMag()])\n",
    "        \n",
    "        elif math.pi /2 < self.angle <= math.pi:\n",
    "            return np.array([-self.cosineMag(math.pi, True), self.sineMag(math.pi, True)])\n",
    "        \n",
    "        elif math.pi < self.angle <= 1.5 * math.pi:\n",
    "            return np.array([-self.cosineMag(math.pi, False), -self.sineMag(math.pi, False)])\n",
    "        \n",
    "        else:\n",
    "            return np.array([self.cosineMag(math.pi * 2, True), -self.sineMag(math.pi * 2, True)])\n",
    "        \n",
    "    def placeholder(factor: float):\n",
    "        self.mag = self.mag * factor"
   ]
  },
  {
   "cell_type": "code",
   "execution_count": 17,
   "metadata": {},
   "outputs": [],
   "source": [
    "class Position(AngularVector):\n",
    "    def __init__(self, mag: float, angle: float):\n",
    "        super().__init__(mag, angle)"
   ]
  },
  {
   "cell_type": "code",
   "execution_count": 18,
   "metadata": {},
   "outputs": [],
   "source": [
    "stupidList = np.array([0,0])\n",
    "steps = 100\n",
    "angleOffset = (math.pi * 2)/100\n",
    "\n",
    "for i in range(steps):\n",
    "    newCoords = Position(1, angleOffset * i).getCartesianComponents()\n",
    "    stupidList = np.vstack((stupidList, newCoords))"
   ]
  },
  {
   "cell_type": "code",
   "execution_count": 19,
   "metadata": {},
   "outputs": [
    {
     "data": {
      "image/png": "[encoded data removed]",
      "text/plain": [
       "<Figure size 360x360 with 1 Axes>"
      ]
     },
     "metadata": {
      "needs_background": "light"
     },
     "output_type": "display_data"
    }
   ],
   "source": [
    "plt.figure(figsize = (5,5))\n",
    "plt.plot(stupidList[:,0], stupidList[:,1], '*')\n",
    "plt.xlim(-1.3, 1.3)\n",
    "plt.ylim(-1.3, 1.3)\n",
    "plt.show()"
   ]
  }
 ],
 "metadata": {
  "kernelspec": {
   "display_name": "Python 3",
   "language": "python",
   "name": "python3"
  },
  "language_info": {
   "codemirror_mode": {
    "name": "ipython",
    "version": 3
   },
   "file_extension": ".py",
   "mimetype": "text/x-python",
   "name": "python",
   "nbconvert_exporter": "python",
   "pygments_lexer": "ipython3",
   "version": "3.8.3"
  }
 },
 "nbformat": 4,
 "nbformat_minor": 4
}
