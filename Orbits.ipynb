{
 "cells": [
  {
   "cell_type": "code",
   "execution_count": 1,
   "metadata": {},
   "outputs": [],
   "source": [
    "import numpy as np\n",
    "import math\n",
    "import matplotlib.pyplot as plt\n",
    "%matplotlib inline"
   ]
  },
  {
   "cell_type": "code",
   "execution_count": 2,
   "metadata": {},
   "outputs": [],
   "source": [
    "class Scalar:\n",
    "    def __init__(self, x_val: float, y_val: float):\n",
    "        self.values = np.array([x_val, y_val])"
   ]
  },
  {
   "cell_type": "code",
   "execution_count": 3,
   "metadata": {},
   "outputs": [],
   "source": [
    "class Position(Scalar):\n",
    "    def __init__(self, x_val: float, y_val: float):\n",
    "        super().__init__(x_val, y_val)"
   ]
  },
  {
   "cell_type": "code",
   "execution_count": 4,
   "metadata": {},
   "outputs": [],
   "source": [
    "class Dunno:\n",
    "    def __init__(self):\n",
    "        Dunno"
   ]
  },
  {
   "cell_type": "code",
   "execution_count": 5,
   "metadata": {},
   "outputs": [],
   "source": [
    "class Vector(Dunno):\n",
    "    def __init__(self, x_val: float, y_val: float):\n",
    "        self.magnitude = ((x_val **2) + (y_val **2))**0.5\n",
    "        if not self.magnitude == 0:\n",
    "            self.direction = np.array([x_val/self.magnitude, y_val/self.magnitude])\n",
    "        else:\n",
    "            self.direction = np.array([0, 0])\n",
    "        \n",
    "    @classmethod\n",
    "    def add(cls, vectors: list):\n",
    "        newVector = np.array([0.0, 0.0])\n",
    "        for vector in vectors:\n",
    "            newVector = newVector + (vector.magnitude * vector.direction)\n",
    "        return cls(newVector[0], newVector[1])\n",
    "    \n",
    "        \n",
    "    @classmethod\n",
    "    def scale_magnitude(cls, vector: Dunno, scale_factor: float):\n",
    "        new_vector = (scale_factor * vector.magnitude) * vector.direction\n",
    "        return cls(new_vector[0], new_vector[1])"
   ]
  },
  {
   "cell_type": "code",
   "execution_count": 6,
   "metadata": {},
   "outputs": [],
   "source": [
    "class Force(Vector):\n",
    "    def __init__(self, x_val: float, y_val: float):\n",
    "        super().__init__(x_val, y_val)\n",
    "        \n",
    "    def get_inst_accel(self, m: float):\n",
    "        return Acceleration.scale_magnitude(self, (1/m))"
   ]
  },
  {
   "cell_type": "code",
   "execution_count": 7,
   "metadata": {},
   "outputs": [],
   "source": [
    "class Acceleration(Vector):\n",
    "    def __init__(self, x_val: float, y_val: float):\n",
    "        super().__init__(x_val, y_val)\n",
    "        \n",
    "    def get_delta_v(self, time_step: float):\n",
    "        return Velocity.scale_magnitude(self, time_step)"
   ]
  },
  {
   "cell_type": "code",
   "execution_count": 8,
   "metadata": {},
   "outputs": [],
   "source": [
    "class Velocity(Vector):\n",
    "    def __init__(self, x_val: float, y_val: float):\n",
    "        super().__init__(x_val, y_val)"
   ]
  },
  {
   "cell_type": "code",
   "execution_count": 9,
   "metadata": {},
   "outputs": [],
   "source": [
    "class Planet:\n",
    "    def __init__(self, p: Position, v: Velocity, m: float):\n",
    "        self.p = p\n",
    "        self.v = v\n",
    "        self.m = m\n",
    "        \n",
    "    def applyForce(self, f: Force, time_step: float):\n",
    "        inst_a = f.get_inst_accel(self.m)\n",
    "        delta_v = inst_a.get_delta_v(time_step)\n",
    "        new_v = Velocity.add([self.v, delta_v])\n",
    "        new_p = self.p.values + (new_v.magnitude * new_v.direction * time_step)\n",
    "        return Planet(Position(new_p[0], new_p[1]), new_v, self.m)"
   ]
  },
  {
   "cell_type": "code",
   "execution_count": 29,
   "metadata": {},
   "outputs": [
    {
     "data": {
      "image/png": "[encoded data removed]",
      "text/plain": [
       "<Figure size 432x288 with 1 Axes>"
      ]
     },
     "metadata": {
      "needs_background": "light"
     },
     "output_type": "display_data"
    }
   ],
   "source": [
    "planet = Planet(Position(1,0), Velocity(0,1), 1)\n",
    "plt.plot(planet.p.values[0], planet.p.values[1] , '*')\n",
    "\n",
    "for i in range (200):\n",
    "    planet = planet.applyForce(Force(-1, -0.003), 3)\n",
    "    plt.plot(planet.p.values[0], planet.p.values[1] , '*')\n",
    "\n",
    "plt.show()"
   ]
  },
  {
   "cell_type": "code",
   "execution_count": null,
   "metadata": {},
   "outputs": [],
   "source": []
  }
 ],
 "metadata": {
  "kernelspec": {
   "display_name": "Python 3",
   "language": "python",
   "name": "python3"
  },
  "language_info": {
   "codemirror_mode": {
    "name": "ipython",
    "version": 3
   },
   "file_extension": ".py",
   "mimetype": "text/x-python",
   "name": "python",
   "nbconvert_exporter": "python",
   "pygments_lexer": "ipython3",
   "version": "3.8.3"
  }
 },
 "nbformat": 4,
 "nbformat_minor": 4
}
